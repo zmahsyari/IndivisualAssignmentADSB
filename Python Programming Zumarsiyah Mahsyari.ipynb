{
 "cells": [
  {
   "cell_type": "markdown",
   "metadata": {},
   "source": [
    "# INDIVIDUAL ASSIGNMENT"
   ]
  },
  {
   "cell_type": "markdown",
   "metadata": {},
   "source": [
    "## 1. How many rows and columns reflected on dataset file IMDB-database-update.csv"
   ]
  },
  {
   "cell_type": "code",
   "execution_count": 2,
   "metadata": {},
   "outputs": [],
   "source": [
    "import pandas as pd\n",
    "import numpy as np"
   ]
  },
  {
   "cell_type": "code",
   "execution_count": 3,
   "metadata": {},
   "outputs": [
    {
     "data": {
      "text/html": [
       "<div>\n",
       "<style scoped>\n",
       "    .dataframe tbody tr th:only-of-type {\n",
       "        vertical-align: middle;\n",
       "    }\n",
       "\n",
       "    .dataframe tbody tr th {\n",
       "        vertical-align: top;\n",
       "    }\n",
       "\n",
       "    .dataframe thead th {\n",
       "        text-align: right;\n",
       "    }\n",
       "</style>\n",
       "<table border=\"1\" class=\"dataframe\">\n",
       "  <thead>\n",
       "    <tr style=\"text-align: right;\">\n",
       "      <th></th>\n",
       "      <th>movie_ID</th>\n",
       "      <th>movie_title</th>\n",
       "      <th>duration</th>\n",
       "      <th>color</th>\n",
       "      <th>title_year</th>\n",
       "      <th>country</th>\n",
       "      <th>language</th>\n",
       "      <th>content_rating</th>\n",
       "      <th>budget_USD</th>\n",
       "      <th>gross_USD</th>\n",
       "      <th>...</th>\n",
       "      <th>actor_3_facebook?</th>\n",
       "      <th>actor_3_facebook_likes</th>\n",
       "      <th>cast_total_facebook_likes</th>\n",
       "      <th>movie_facebook?</th>\n",
       "      <th>movie_facebook_likes;</th>\n",
       "      <th>facenumber_in_poster</th>\n",
       "      <th>num_voted_users</th>\n",
       "      <th>num_user_for_reviews</th>\n",
       "      <th>imdb_score</th>\n",
       "      <th>imdb_top_250</th>\n",
       "    </tr>\n",
       "  </thead>\n",
       "  <tbody>\n",
       "    <tr>\n",
       "      <th>0</th>\n",
       "      <td>1</td>\n",
       "      <td>Avatar</td>\n",
       "      <td>178</td>\n",
       "      <td>1</td>\n",
       "      <td>2009</td>\n",
       "      <td>USA</td>\n",
       "      <td>English</td>\n",
       "      <td>PG-13</td>\n",
       "      <td>237000000</td>\n",
       "      <td>760505847</td>\n",
       "      <td>...</td>\n",
       "      <td>1</td>\n",
       "      <td>855</td>\n",
       "      <td>4834</td>\n",
       "      <td>1</td>\n",
       "      <td>33000</td>\n",
       "      <td>0</td>\n",
       "      <td>886204</td>\n",
       "      <td>3054</td>\n",
       "      <td>7.9</td>\n",
       "      <td>0</td>\n",
       "    </tr>\n",
       "    <tr>\n",
       "      <th>1</th>\n",
       "      <td>2</td>\n",
       "      <td>Pirates of the Caribbean: At World's End</td>\n",
       "      <td>169</td>\n",
       "      <td>1</td>\n",
       "      <td>2007</td>\n",
       "      <td>USA</td>\n",
       "      <td>English</td>\n",
       "      <td>PG-13</td>\n",
       "      <td>300000000</td>\n",
       "      <td>309404152</td>\n",
       "      <td>...</td>\n",
       "      <td>1</td>\n",
       "      <td>1000</td>\n",
       "      <td>48350</td>\n",
       "      <td>0</td>\n",
       "      <td>0</td>\n",
       "      <td>0</td>\n",
       "      <td>471220</td>\n",
       "      <td>1238</td>\n",
       "      <td>7.1</td>\n",
       "      <td>0</td>\n",
       "    </tr>\n",
       "    <tr>\n",
       "      <th>2</th>\n",
       "      <td>3</td>\n",
       "      <td>The Dark Knight Rises</td>\n",
       "      <td>164</td>\n",
       "      <td>1</td>\n",
       "      <td>2012</td>\n",
       "      <td>USA</td>\n",
       "      <td>English</td>\n",
       "      <td>PG-13</td>\n",
       "      <td>250000000</td>\n",
       "      <td>448130642</td>\n",
       "      <td>...</td>\n",
       "      <td>1</td>\n",
       "      <td>23000</td>\n",
       "      <td>106759</td>\n",
       "      <td>1</td>\n",
       "      <td>164000</td>\n",
       "      <td>0</td>\n",
       "      <td>1144337</td>\n",
       "      <td>2701</td>\n",
       "      <td>8.5</td>\n",
       "      <td>1</td>\n",
       "    </tr>\n",
       "    <tr>\n",
       "      <th>3</th>\n",
       "      <td>4</td>\n",
       "      <td>Spider-Man 3</td>\n",
       "      <td>156</td>\n",
       "      <td>1</td>\n",
       "      <td>2007</td>\n",
       "      <td>USA</td>\n",
       "      <td>English</td>\n",
       "      <td>PG-13</td>\n",
       "      <td>258000000</td>\n",
       "      <td>336530303</td>\n",
       "      <td>...</td>\n",
       "      <td>1</td>\n",
       "      <td>4000</td>\n",
       "      <td>46055</td>\n",
       "      <td>0</td>\n",
       "      <td>0</td>\n",
       "      <td>0</td>\n",
       "      <td>383056</td>\n",
       "      <td>1902</td>\n",
       "      <td>6.2</td>\n",
       "      <td>0</td>\n",
       "    </tr>\n",
       "    <tr>\n",
       "      <th>4</th>\n",
       "      <td>5</td>\n",
       "      <td>Batman v Superman: Dawn of Justice</td>\n",
       "      <td>183</td>\n",
       "      <td>1</td>\n",
       "      <td>2016</td>\n",
       "      <td>USA</td>\n",
       "      <td>English</td>\n",
       "      <td>PG-13</td>\n",
       "      <td>250000000</td>\n",
       "      <td>330249062</td>\n",
       "      <td>...</td>\n",
       "      <td>1</td>\n",
       "      <td>2000</td>\n",
       "      <td>24450</td>\n",
       "      <td>1</td>\n",
       "      <td>197000</td>\n",
       "      <td>0</td>\n",
       "      <td>371639</td>\n",
       "      <td>3018</td>\n",
       "      <td>6.9</td>\n",
       "      <td>0</td>\n",
       "    </tr>\n",
       "  </tbody>\n",
       "</table>\n",
       "<p>5 rows × 36 columns</p>\n",
       "</div>"
      ],
      "text/plain": [
       "   movie_ID                               movie_title  duration  color  \\\n",
       "0         1                                    Avatar       178      1   \n",
       "1         2  Pirates of the Caribbean: At World's End       169      1   \n",
       "2         3                     The Dark Knight Rises       164      1   \n",
       "3         4                              Spider-Man 3       156      1   \n",
       "4         5        Batman v Superman: Dawn of Justice       183      1   \n",
       "\n",
       "   title_year country language content_rating  budget_USD  gross_USD  \\\n",
       "0        2009     USA  English          PG-13   237000000  760505847   \n",
       "1        2007     USA  English          PG-13   300000000  309404152   \n",
       "2        2012     USA  English          PG-13   250000000  448130642   \n",
       "3        2007     USA  English          PG-13   258000000  336530303   \n",
       "4        2016     USA  English          PG-13   250000000  330249062   \n",
       "\n",
       "       ...       actor_3_facebook?  actor_3_facebook_likes  \\\n",
       "0      ...                       1                     855   \n",
       "1      ...                       1                    1000   \n",
       "2      ...                       1                   23000   \n",
       "3      ...                       1                    4000   \n",
       "4      ...                       1                    2000   \n",
       "\n",
       "  cast_total_facebook_likes movie_facebook?  movie_facebook_likes;  \\\n",
       "0                      4834               1                  33000   \n",
       "1                     48350               0                      0   \n",
       "2                    106759               1                 164000   \n",
       "3                     46055               0                      0   \n",
       "4                     24450               1                 197000   \n",
       "\n",
       "   facenumber_in_poster num_voted_users  num_user_for_reviews  imdb_score  \\\n",
       "0                     0          886204                  3054         7.9   \n",
       "1                     0          471220                  1238         7.1   \n",
       "2                     0         1144337                  2701         8.5   \n",
       "3                     0          383056                  1902         6.2   \n",
       "4                     0          371639                  3018         6.9   \n",
       "\n",
       "   imdb_top_250  \n",
       "0             0  \n",
       "1             0  \n",
       "2             1  \n",
       "3             0  \n",
       "4             0  \n",
       "\n",
       "[5 rows x 36 columns]"
      ]
     },
     "execution_count": 3,
     "metadata": {},
     "output_type": "execute_result"
    }
   ],
   "source": [
    "df = pd.read_csv('https://raw.githubusercontent.com/scalabretta/GroupProject--IMDB/master/Dataset/IMDB-database-update.csv', encoding = 'latin1')\n",
    "df.head()"
   ]
  },
  {
   "cell_type": "code",
   "execution_count": 4,
   "metadata": {},
   "outputs": [
    {
     "data": {
      "text/plain": [
       "(3781, 36)"
      ]
     },
     "execution_count": 4,
     "metadata": {},
     "output_type": "execute_result"
    }
   ],
   "source": [
    "df.shape"
   ]
  },
  {
   "cell_type": "markdown",
   "metadata": {},
   "source": [
    "# 2. What are the top 3 movies with highest nett profit in 2013?"
   ]
  },
  {
   "cell_type": "code",
   "execution_count": 13,
   "metadata": {},
   "outputs": [
    {
     "data": {
      "text/html": [
       "<div>\n",
       "<style scoped>\n",
       "    .dataframe tbody tr th:only-of-type {\n",
       "        vertical-align: middle;\n",
       "    }\n",
       "\n",
       "    .dataframe tbody tr th {\n",
       "        vertical-align: top;\n",
       "    }\n",
       "\n",
       "    .dataframe thead th {\n",
       "        text-align: right;\n",
       "    }\n",
       "</style>\n",
       "<table border=\"1\" class=\"dataframe\">\n",
       "  <thead>\n",
       "    <tr style=\"text-align: right;\">\n",
       "      <th></th>\n",
       "      <th>movie_ID</th>\n",
       "      <th>movie_title</th>\n",
       "      <th>duration</th>\n",
       "      <th>color</th>\n",
       "      <th>title_year</th>\n",
       "      <th>country</th>\n",
       "      <th>language</th>\n",
       "      <th>content_rating</th>\n",
       "      <th>budget_USD</th>\n",
       "      <th>gross_USD</th>\n",
       "      <th>...</th>\n",
       "      <th>actor_3_facebook?</th>\n",
       "      <th>actor_3_facebook_likes</th>\n",
       "      <th>cast_total_facebook_likes</th>\n",
       "      <th>movie_facebook?</th>\n",
       "      <th>movie_facebook_likes;</th>\n",
       "      <th>facenumber_in_poster</th>\n",
       "      <th>num_voted_users</th>\n",
       "      <th>num_user_for_reviews</th>\n",
       "      <th>imdb_score</th>\n",
       "      <th>imdb_top_250</th>\n",
       "    </tr>\n",
       "  </thead>\n",
       "  <tbody>\n",
       "    <tr>\n",
       "      <th>1614</th>\n",
       "      <td>1615</td>\n",
       "      <td>The Hunger Games: Catching Fire</td>\n",
       "      <td>146</td>\n",
       "      <td>1</td>\n",
       "      <td>2013</td>\n",
       "      <td>USA</td>\n",
       "      <td>English</td>\n",
       "      <td>PG-13</td>\n",
       "      <td>130000000</td>\n",
       "      <td>424645577</td>\n",
       "      <td>...</td>\n",
       "      <td>1</td>\n",
       "      <td>523</td>\n",
       "      <td>49355</td>\n",
       "      <td>1</td>\n",
       "      <td>82000</td>\n",
       "      <td>1</td>\n",
       "      <td>498397</td>\n",
       "      <td>706</td>\n",
       "      <td>7.6</td>\n",
       "      <td>0</td>\n",
       "    </tr>\n",
       "    <tr>\n",
       "      <th>236</th>\n",
       "      <td>237</td>\n",
       "      <td>Despicable Me 2</td>\n",
       "      <td>98</td>\n",
       "      <td>1</td>\n",
       "      <td>2013</td>\n",
       "      <td>USA</td>\n",
       "      <td>English</td>\n",
       "      <td>PG</td>\n",
       "      <td>76000000</td>\n",
       "      <td>368049635</td>\n",
       "      <td>...</td>\n",
       "      <td>1</td>\n",
       "      <td>1000</td>\n",
       "      <td>11905</td>\n",
       "      <td>1</td>\n",
       "      <td>56000</td>\n",
       "      <td>0</td>\n",
       "      <td>286877</td>\n",
       "      <td>284</td>\n",
       "      <td>7.5</td>\n",
       "      <td>0</td>\n",
       "    </tr>\n",
       "    <tr>\n",
       "      <th>57</th>\n",
       "      <td>58</td>\n",
       "      <td>Frozen</td>\n",
       "      <td>102</td>\n",
       "      <td>1</td>\n",
       "      <td>2013</td>\n",
       "      <td>USA</td>\n",
       "      <td>English</td>\n",
       "      <td>PG</td>\n",
       "      <td>150000000</td>\n",
       "      <td>400736600</td>\n",
       "      <td>...</td>\n",
       "      <td>1</td>\n",
       "      <td>490</td>\n",
       "      <td>2582</td>\n",
       "      <td>1</td>\n",
       "      <td>58000</td>\n",
       "      <td>0</td>\n",
       "      <td>421658</td>\n",
       "      <td>904</td>\n",
       "      <td>7.6</td>\n",
       "      <td>0</td>\n",
       "    </tr>\n",
       "  </tbody>\n",
       "</table>\n",
       "<p>3 rows × 36 columns</p>\n",
       "</div>"
      ],
      "text/plain": [
       "      movie_ID                      movie_title  duration  color  title_year  \\\n",
       "1614      1615  The Hunger Games: Catching Fire       146      1        2013   \n",
       "236        237                  Despicable Me 2        98      1        2013   \n",
       "57          58                           Frozen       102      1        2013   \n",
       "\n",
       "     country language content_rating  budget_USD  gross_USD      ...       \\\n",
       "1614     USA  English          PG-13   130000000  424645577      ...        \n",
       "236      USA  English             PG    76000000  368049635      ...        \n",
       "57       USA  English             PG   150000000  400736600      ...        \n",
       "\n",
       "      actor_3_facebook?  actor_3_facebook_likes cast_total_facebook_likes  \\\n",
       "1614                  1                     523                     49355   \n",
       "236                   1                    1000                     11905   \n",
       "57                    1                     490                      2582   \n",
       "\n",
       "     movie_facebook?  movie_facebook_likes;  facenumber_in_poster  \\\n",
       "1614               1                  82000                     1   \n",
       "236                1                  56000                     0   \n",
       "57                 1                  58000                     0   \n",
       "\n",
       "     num_voted_users  num_user_for_reviews  imdb_score  imdb_top_250  \n",
       "1614          498397                   706         7.6             0  \n",
       "236           286877                   284         7.5             0  \n",
       "57            421658                   904         7.6             0  \n",
       "\n",
       "[3 rows x 36 columns]"
      ]
     },
     "execution_count": 13,
     "metadata": {},
     "output_type": "execute_result"
    }
   ],
   "source": [
    "df2013 = df[df.title_year == 2013]\n",
    "df_net = df2013.sort_values(by=['net_USD'], ascending = False)\n",
    "df_net.head(3)"
   ]
  },
  {
   "cell_type": "markdown",
   "metadata": {},
   "source": [
    "# 3. What are the top 3 movies with highest gross profit in 2009?"
   ]
  },
  {
   "cell_type": "code",
   "execution_count": 14,
   "metadata": {},
   "outputs": [
    {
     "data": {
      "text/html": [
       "<div>\n",
       "<style scoped>\n",
       "    .dataframe tbody tr th:only-of-type {\n",
       "        vertical-align: middle;\n",
       "    }\n",
       "\n",
       "    .dataframe tbody tr th {\n",
       "        vertical-align: top;\n",
       "    }\n",
       "\n",
       "    .dataframe thead th {\n",
       "        text-align: right;\n",
       "    }\n",
       "</style>\n",
       "<table border=\"1\" class=\"dataframe\">\n",
       "  <thead>\n",
       "    <tr style=\"text-align: right;\">\n",
       "      <th></th>\n",
       "      <th>movie_ID</th>\n",
       "      <th>movie_title</th>\n",
       "      <th>duration</th>\n",
       "      <th>color</th>\n",
       "      <th>title_year</th>\n",
       "      <th>country</th>\n",
       "      <th>language</th>\n",
       "      <th>content_rating</th>\n",
       "      <th>budget_USD</th>\n",
       "      <th>gross_USD</th>\n",
       "      <th>...</th>\n",
       "      <th>actor_3_facebook?</th>\n",
       "      <th>actor_3_facebook_likes</th>\n",
       "      <th>cast_total_facebook_likes</th>\n",
       "      <th>movie_facebook?</th>\n",
       "      <th>movie_facebook_likes;</th>\n",
       "      <th>facenumber_in_poster</th>\n",
       "      <th>num_voted_users</th>\n",
       "      <th>num_user_for_reviews</th>\n",
       "      <th>imdb_score</th>\n",
       "      <th>imdb_top_250</th>\n",
       "    </tr>\n",
       "  </thead>\n",
       "  <tbody>\n",
       "    <tr>\n",
       "      <th>0</th>\n",
       "      <td>1</td>\n",
       "      <td>Avatar</td>\n",
       "      <td>178</td>\n",
       "      <td>1</td>\n",
       "      <td>2009</td>\n",
       "      <td>USA</td>\n",
       "      <td>English</td>\n",
       "      <td>PG-13</td>\n",
       "      <td>237000000</td>\n",
       "      <td>760505847</td>\n",
       "      <td>...</td>\n",
       "      <td>1</td>\n",
       "      <td>855</td>\n",
       "      <td>4834</td>\n",
       "      <td>1</td>\n",
       "      <td>33000</td>\n",
       "      <td>0</td>\n",
       "      <td>886204</td>\n",
       "      <td>3054</td>\n",
       "      <td>7.9</td>\n",
       "      <td>0</td>\n",
       "    </tr>\n",
       "    <tr>\n",
       "      <th>19</th>\n",
       "      <td>20</td>\n",
       "      <td>Transformers: Revenge of the Fallen</td>\n",
       "      <td>150</td>\n",
       "      <td>1</td>\n",
       "      <td>2009</td>\n",
       "      <td>USA</td>\n",
       "      <td>English</td>\n",
       "      <td>PG-13</td>\n",
       "      <td>200000000</td>\n",
       "      <td>402076689</td>\n",
       "      <td>...</td>\n",
       "      <td>1</td>\n",
       "      <td>464</td>\n",
       "      <td>3218</td>\n",
       "      <td>0</td>\n",
       "      <td>0</td>\n",
       "      <td>0</td>\n",
       "      <td>323207</td>\n",
       "      <td>1439</td>\n",
       "      <td>6.0</td>\n",
       "      <td>0</td>\n",
       "    </tr>\n",
       "    <tr>\n",
       "      <th>3094</th>\n",
       "      <td>3095</td>\n",
       "      <td>Harry Potter and the Half-Blood Prince</td>\n",
       "      <td>153</td>\n",
       "      <td>1</td>\n",
       "      <td>2009</td>\n",
       "      <td>UK</td>\n",
       "      <td>English</td>\n",
       "      <td>PG</td>\n",
       "      <td>250000000</td>\n",
       "      <td>301956980</td>\n",
       "      <td>...</td>\n",
       "      <td>1</td>\n",
       "      <td>10000</td>\n",
       "      <td>58753</td>\n",
       "      <td>1</td>\n",
       "      <td>10000</td>\n",
       "      <td>3</td>\n",
       "      <td>321795</td>\n",
       "      <td>973</td>\n",
       "      <td>7.5</td>\n",
       "      <td>0</td>\n",
       "    </tr>\n",
       "  </tbody>\n",
       "</table>\n",
       "<p>3 rows × 36 columns</p>\n",
       "</div>"
      ],
      "text/plain": [
       "      movie_ID                             movie_title  duration  color  \\\n",
       "0            1                                  Avatar       178      1   \n",
       "19          20     Transformers: Revenge of the Fallen       150      1   \n",
       "3094      3095  Harry Potter and the Half-Blood Prince       153      1   \n",
       "\n",
       "      title_year country language content_rating  budget_USD  gross_USD  \\\n",
       "0           2009     USA  English          PG-13   237000000  760505847   \n",
       "19          2009     USA  English          PG-13   200000000  402076689   \n",
       "3094        2009      UK  English             PG   250000000  301956980   \n",
       "\n",
       "          ...       actor_3_facebook?  actor_3_facebook_likes  \\\n",
       "0         ...                       1                     855   \n",
       "19        ...                       1                     464   \n",
       "3094      ...                       1                   10000   \n",
       "\n",
       "     cast_total_facebook_likes movie_facebook?  movie_facebook_likes;  \\\n",
       "0                         4834               1                  33000   \n",
       "19                        3218               0                      0   \n",
       "3094                     58753               1                  10000   \n",
       "\n",
       "      facenumber_in_poster num_voted_users  num_user_for_reviews  imdb_score  \\\n",
       "0                        0          886204                  3054         7.9   \n",
       "19                       0          323207                  1439         6.0   \n",
       "3094                     3          321795                   973         7.5   \n",
       "\n",
       "      imdb_top_250  \n",
       "0                0  \n",
       "19               0  \n",
       "3094             0  \n",
       "\n",
       "[3 rows x 36 columns]"
      ]
     },
     "execution_count": 14,
     "metadata": {},
     "output_type": "execute_result"
    }
   ],
   "source": [
    "df2009 = df[df.title_year == 2009]\n",
    "df_gross = df2009.sort_values(by=['gross_USD'], ascending = False)\n",
    "df_gross.head(3)"
   ]
  },
  {
   "cell_type": "markdown",
   "metadata": {},
   "source": [
    "# 4 How many non-english movies are in the dataset?"
   ]
  },
  {
   "cell_type": "code",
   "execution_count": 20,
   "metadata": {},
   "outputs": [
    {
     "data": {
      "text/plain": [
       "153"
      ]
     },
     "execution_count": 20,
     "metadata": {},
     "output_type": "execute_result"
    }
   ],
   "source": [
    "non_english_movies = len(df)-len(df[df.language == \"English\"])\n",
    "non_english_movies"
   ]
  },
  {
   "cell_type": "markdown",
   "metadata": {},
   "source": [
    "# 5 What are top 3 languages in the dataset aside English (based on number of movies)?"
   ]
  },
  {
   "cell_type": "code",
   "execution_count": 32,
   "metadata": {},
   "outputs": [
    {
     "data": {
      "text/plain": [
       "English       3628\n",
       "French          33\n",
       "Spanish         23\n",
       "Mandarin        14\n",
       "Japanese        10\n",
       "German          10\n",
       "Cantonese        7\n",
       "Italian          5\n",
       "Hindi            5\n",
       "Portuguese       5\n",
       "Korean           4\n",
       "Norwegian        4\n",
       "Danish           3\n",
       "Thai             3\n",
       "Persian          3\n",
       "Dutch            3\n",
       "Hebrew           2\n",
       "Indonesian       2\n",
       "Aboriginal       2\n",
       "Dari             2\n",
       "Maya             1\n",
       "Czech            1\n",
       "Mongolian        1\n",
       "Arabic           1\n",
       "Zulu             1\n",
       "Vietnamese       1\n",
       "Hungarian        1\n",
       "Kazakh           1\n",
       "Bosnian          1\n",
       "Aramaic          1\n",
       "Russian          1\n",
       "Filipino         1\n",
       "None             1\n",
       "Name: language, dtype: int64"
      ]
     },
     "execution_count": 32,
     "metadata": {},
     "output_type": "execute_result"
    }
   ],
   "source": [
    "df[\"language\"].value_counts()\n",
    "\n",
    "#French, Spanish, and Mandarin are top 3 languages aside English"
   ]
  },
  {
   "cell_type": "markdown",
   "metadata": {},
   "source": [
    "# 6. What are the top 3 countries with the highest nett profit in all dataset times?"
   ]
  },
  {
   "cell_type": "code",
   "execution_count": 45,
   "metadata": {},
   "outputs": [
    {
     "data": {
      "text/plain": [
       "USA               3009\n",
       "UK                 318\n",
       "France             101\n",
       "Germany             80\n",
       "Canada              60\n",
       "Australia           39\n",
       "Spain               22\n",
       "Japan               15\n",
       "China               14\n",
       "Hong Kong           13\n",
       "New Zealand         11\n",
       "Italy                9\n",
       "Denmark              9\n",
       "Mexico               8\n",
       "South Korea          7\n",
       "Ireland              7\n",
       "Brazil               5\n",
       "India                5\n",
       "Norway               4\n",
       "Iran                 4\n",
       "Thailand             4\n",
       "Netherlands          3\n",
       "South Africa         3\n",
       "Czech Republic       3\n",
       "Russia               3\n",
       "Argentina            3\n",
       "Hungary              2\n",
       "Israel               2\n",
       "Philippines          1\n",
       "Iceland              1\n",
       "Taiwan               1\n",
       "Colombia             1\n",
       "Peru                 1\n",
       "Indonesia            1\n",
       "Finland              1\n",
       "Greece               1\n",
       "Afghanistan          1\n",
       "West Germany         1\n",
       "Chile                1\n",
       "Georgia              1\n",
       "Belgium              1\n",
       "Official site        1\n",
       "Romania              1\n",
       "Aruba                1\n",
       "New Line             1\n",
       "Poland               1\n",
       "Name: country, dtype: int64"
      ]
     },
     "execution_count": 45,
     "metadata": {},
     "output_type": "execute_result"
    }
   ],
   "source": [
    "df_highestnet = df.sort_values(by=['net_USD'], ascending = False)\n",
    "df_highestnet[\"country\"].value_counts()\n",
    "\n",
    "#USA, UK, and France are top 3 countries  with the highest nett profit"
   ]
  },
  {
   "cell_type": "markdown",
   "metadata": {},
   "source": [
    "# 7. What are the average budget of all movies in dataset in 2013?"
   ]
  },
  {
   "cell_type": "code",
   "execution_count": 47,
   "metadata": {},
   "outputs": [
    {
     "data": {
      "text/plain": [
       "51069610.77439024"
      ]
     },
     "execution_count": 47,
     "metadata": {},
     "output_type": "execute_result"
    }
   ],
   "source": [
    "avg_budget2013 = df2013['budget_USD'].mean()\n",
    "avg_budget2013"
   ]
  },
  {
   "cell_type": "markdown",
   "metadata": {},
   "source": [
    "# 8. What are the average budget of all movies in dataset in 2014?"
   ]
  },
  {
   "cell_type": "code",
   "execution_count": 48,
   "metadata": {},
   "outputs": [
    {
     "data": {
      "text/plain": [
       "49919006.62251656"
      ]
     },
     "execution_count": 48,
     "metadata": {},
     "output_type": "execute_result"
    }
   ],
   "source": [
    "df2014 = df[df.title_year == 2014]\n",
    "avg_budget2014 = df2014['budget_USD'].mean()\n",
    "avg_budget2014"
   ]
  },
  {
   "cell_type": "markdown",
   "metadata": {},
   "source": [
    "# 9. Which one is higher, average budget of all movies in dataset in 2014 or 2013?"
   ]
  },
  {
   "cell_type": "code",
   "execution_count": 50,
   "metadata": {},
   "outputs": [
    {
     "name": "stdout",
     "output_type": "stream",
     "text": [
      "Average budget of all movies in 2013 is higher than average budget of all movies in 2014.\n"
     ]
    }
   ],
   "source": [
    "if avg_budget2014 > avg_budget2013:\n",
    "    print ('Average budget of all movies in 2014 is higher than average budget of all movies in 2013.')\n",
    "else:\n",
    "    print('Average budget of all movies in 2013 is higher than average budget of all movies in 2014.')"
   ]
  },
  {
   "cell_type": "markdown",
   "metadata": {},
   "source": [
    "# 10. What movie that resulted highest nett profit of all dataset times? How much did the movie make?"
   ]
  },
  {
   "cell_type": "code",
   "execution_count": 42,
   "metadata": {},
   "outputs": [
    {
     "data": {
      "text/html": [
       "<div>\n",
       "<style scoped>\n",
       "    .dataframe tbody tr th:only-of-type {\n",
       "        vertical-align: middle;\n",
       "    }\n",
       "\n",
       "    .dataframe tbody tr th {\n",
       "        vertical-align: top;\n",
       "    }\n",
       "\n",
       "    .dataframe thead th {\n",
       "        text-align: right;\n",
       "    }\n",
       "</style>\n",
       "<table border=\"1\" class=\"dataframe\">\n",
       "  <thead>\n",
       "    <tr style=\"text-align: right;\">\n",
       "      <th></th>\n",
       "      <th>movie_title</th>\n",
       "      <th>budget_USD</th>\n",
       "      <th>net_USD</th>\n",
       "    </tr>\n",
       "  </thead>\n",
       "  <tbody>\n",
       "    <tr>\n",
       "      <th>0</th>\n",
       "      <td>Avatar</td>\n",
       "      <td>237000000</td>\n",
       "      <td>523505847</td>\n",
       "    </tr>\n",
       "  </tbody>\n",
       "</table>\n",
       "</div>"
      ],
      "text/plain": [
       "  movie_title  budget_USD    net_USD\n",
       "0      Avatar   237000000  523505847"
      ]
     },
     "execution_count": 42,
     "metadata": {},
     "output_type": "execute_result"
    }
   ],
   "source": [
    "df_highestnet = df.sort_values(by=['net_USD'], ascending = False)\n",
    "df_highestnet[['movie_title', 'budget_USD', 'net_USD']].head(1)"
   ]
  }
 ],
 "metadata": {
  "kernelspec": {
   "display_name": "Python 3",
   "language": "python",
   "name": "python3"
  },
  "language_info": {
   "codemirror_mode": {
    "name": "ipython",
    "version": 3
   },
   "file_extension": ".py",
   "mimetype": "text/x-python",
   "name": "python",
   "nbconvert_exporter": "python",
   "pygments_lexer": "ipython3",
   "version": "3.6.4"
  }
 },
 "nbformat": 4,
 "nbformat_minor": 2
}
